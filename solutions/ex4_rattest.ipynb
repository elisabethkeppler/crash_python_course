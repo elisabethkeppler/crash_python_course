{
 "cells": [
  {
   "cell_type": "code",
   "execution_count": 2,
   "id": "c7dc6434",
   "metadata": {},
   "outputs": [],
   "source": [
    "from ex4_ratpack import Rational"
   ]
  },
  {
   "cell_type": "code",
   "execution_count": 16,
   "id": "bac738c4",
   "metadata": {},
   "outputs": [
    {
     "name": "stdout",
     "output_type": "stream",
     "text": [
      "1/2\n",
      "Rational(0.5, precision=1e-05)\n"
     ]
    }
   ],
   "source": [
    "# test 1: str() and repr()\n",
    "r = Rational(0.5)\n",
    "print(str(r))      # 1/2\n",
    "print(repr(r))     # Rational(0.5, precision=1e-05)"
   ]
  },
  {
   "cell_type": "code",
   "execution_count": 12,
   "id": "20829d80",
   "metadata": {},
   "outputs": [
    {
     "name": "stdout",
     "output_type": "stream",
     "text": [
      "5/8\n",
      "1/16\n",
      "4/1\n"
     ]
    }
   ],
   "source": [
    "# test 2: arithmetic operators\n",
    "a = Rational(1/2)\n",
    "b = Rational(1/8)\n",
    "print(a + b)       # 5/8\n",
    "print(a * b)       # 1/16\n",
    "print(a / b)       # 4/1\n"
   ]
  },
  {
   "cell_type": "code",
   "execution_count": 13,
   "id": "221d1a7d",
   "metadata": {},
   "outputs": [
    {
     "name": "stdout",
     "output_type": "stream",
     "text": [
      "True\n",
      "True\n"
     ]
    }
   ],
   "source": [
    "# test 3: comparison operators\n",
    "print(Rational(1/5) == Rational(2/10))  # True\n",
    "print(Rational(0.3333, precision=1e-4) < Rational(0.34))  # True"
   ]
  },
  {
   "cell_type": "code",
   "execution_count": 18,
   "id": "35191856",
   "metadata": {},
   "outputs": [
    {
     "name": "stdout",
     "output_type": "stream",
     "text": [
      "1/10\n",
      "23/7\n"
     ]
    }
   ],
   "source": [
    "# test 4: simplification\n",
    "print(Rational(12/120))  # 1/10\n",
    "print(Rational(23/7))  # 23/7"
   ]
  },
  {
   "cell_type": "code",
   "execution_count": 15,
   "id": "e16883e1",
   "metadata": {},
   "outputs": [
    {
     "name": "stdout",
     "output_type": "stream",
     "text": [
      "3\n",
      "3.1415929203539825\n"
     ]
    }
   ],
   "source": [
    "# test 5: casting\n",
    "print(int(Rational(3.14)))  # 3\n",
    "print(float(Rational(355/113)))  # ~3.14159"
   ]
  },
  {
   "cell_type": "code",
   "execution_count": null,
   "id": "b7d2c141",
   "metadata": {},
   "outputs": [],
   "source": []
  }
 ],
 "metadata": {
  "kernelspec": {
   "display_name": "Python 3 (ipykernel)",
   "language": "python",
   "name": "python3"
  },
  "language_info": {
   "codemirror_mode": {
    "name": "ipython",
    "version": 3
   },
   "file_extension": ".py",
   "mimetype": "text/x-python",
   "name": "python",
   "nbconvert_exporter": "python",
   "pygments_lexer": "ipython3",
   "version": "3.9.7"
  }
 },
 "nbformat": 4,
 "nbformat_minor": 5
}
